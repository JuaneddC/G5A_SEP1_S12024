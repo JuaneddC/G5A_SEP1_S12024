{
 "cells": [
  {
   "cell_type": "code",
   "execution_count": 5,
   "metadata": {},
   "outputs": [
    {
     "ename": "LoadflowNotConverged",
     "evalue": "Power Flow nr did not converge after 100 iterations!",
     "output_type": "error",
     "traceback": [
      "\u001b[1;31m---------------------------------------------------------------------------\u001b[0m",
      "\u001b[1;31mLoadflowNotConverged\u001b[0m                      Traceback (most recent call last)",
      "Cell \u001b[1;32mIn[5], line 27\u001b[0m\n\u001b[0;32m     24\u001b[0m \u001b[38;5;66;03m# Crear una línea de transmisión\u001b[39;00m\n\u001b[0;32m     25\u001b[0m pp\u001b[38;5;241m.\u001b[39mcreate_line(net, from_bus\u001b[38;5;241m=\u001b[39mBarra1, to_bus\u001b[38;5;241m=\u001b[39mBarra2, length_km\u001b[38;5;241m=\u001b[39m\u001b[38;5;241m500\u001b[39m, std_type\u001b[38;5;241m=\u001b[39m\u001b[38;5;124m\"\u001b[39m\u001b[38;5;124mN2XS(FL)2Y 1x185 RM/35 64/110 kV\u001b[39m\u001b[38;5;124m\"\u001b[39m, name\u001b[38;5;241m=\u001b[39m\u001b[38;5;124m\"\u001b[39m\u001b[38;5;124ml12\u001b[39m\u001b[38;5;124m\"\u001b[39m)\n\u001b[1;32m---> 27\u001b[0m \u001b[43mpp\u001b[49m\u001b[38;5;241;43m.\u001b[39;49m\u001b[43mrunpp\u001b[49m\u001b[43m(\u001b[49m\u001b[43mnet\u001b[49m\u001b[43m,\u001b[49m\u001b[43m \u001b[49m\u001b[43malgorithm\u001b[49m\u001b[38;5;241;43m=\u001b[39;49m\u001b[38;5;124;43m'\u001b[39;49m\u001b[38;5;124;43mnr\u001b[39;49m\u001b[38;5;124;43m'\u001b[39;49m\u001b[43m,\u001b[49m\u001b[43m \u001b[49m\u001b[43mnumba\u001b[49m\u001b[38;5;241;43m=\u001b[39;49m\u001b[38;5;28;43;01mFalse\u001b[39;49;00m\u001b[43m,\u001b[49m\u001b[43m \u001b[49m\u001b[43mmax_iteration\u001b[49m\u001b[38;5;241;43m=\u001b[39;49m\u001b[38;5;241;43m100\u001b[39;49m\u001b[43m \u001b[49m\u001b[43m)\u001b[49m\n\u001b[0;32m     29\u001b[0m net\u001b[38;5;241m.\u001b[39mres_line\u001b[38;5;241m.\u001b[39mindex \u001b[38;5;241m=\u001b[39m net\u001b[38;5;241m.\u001b[39mline\u001b[38;5;241m.\u001b[39mname \n\u001b[0;32m     30\u001b[0m net\u001b[38;5;241m.\u001b[39mres_bus\u001b[38;5;241m.\u001b[39mindex \u001b[38;5;241m=\u001b[39m net\u001b[38;5;241m.\u001b[39mbus\u001b[38;5;241m.\u001b[39mname \n",
      "File \u001b[1;32mc:\\Users\\ngarr\\AppData\\Local\\Programs\\Python\\Python312\\Lib\\site-packages\\pandapower\\run.py:250\u001b[0m, in \u001b[0;36mrunpp\u001b[1;34m(net, algorithm, calculate_voltage_angles, init, max_iteration, tolerance_mva, trafo_model, trafo_loading, enforce_q_lims, check_connectivity, voltage_depend_loads, consider_line_temperature, run_control, distributed_slack, tdpf, tdpf_delay_s, **kwargs)\u001b[0m\n\u001b[0;32m    248\u001b[0m _check_bus_index_and_print_warning_if_high(net)\n\u001b[0;32m    249\u001b[0m _check_gen_index_and_print_warning_if_high(net)\n\u001b[1;32m--> 250\u001b[0m \u001b[43m_powerflow\u001b[49m\u001b[43m(\u001b[49m\u001b[43mnet\u001b[49m\u001b[43m,\u001b[49m\u001b[43m \u001b[49m\u001b[38;5;241;43m*\u001b[39;49m\u001b[38;5;241;43m*\u001b[39;49m\u001b[43mkwargs\u001b[49m\u001b[43m)\u001b[49m\n",
      "File \u001b[1;32mc:\\Users\\ngarr\\AppData\\Local\\Programs\\Python\\Python312\\Lib\\site-packages\\pandapower\\powerflow.py:86\u001b[0m, in \u001b[0;36m_powerflow\u001b[1;34m(net, **kwargs)\u001b[0m\n\u001b[0;32m     84\u001b[0m result \u001b[38;5;241m=\u001b[39m _run_pf_algorithm(ppci, net[\u001b[38;5;124m\"\u001b[39m\u001b[38;5;124m_options\u001b[39m\u001b[38;5;124m\"\u001b[39m], \u001b[38;5;241m*\u001b[39m\u001b[38;5;241m*\u001b[39mkwargs)\n\u001b[0;32m     85\u001b[0m \u001b[38;5;66;03m# read the results (=ppci with results) to net\u001b[39;00m\n\u001b[1;32m---> 86\u001b[0m \u001b[43m_ppci_to_net\u001b[49m\u001b[43m(\u001b[49m\u001b[43mresult\u001b[49m\u001b[43m,\u001b[49m\u001b[43m \u001b[49m\u001b[43mnet\u001b[49m\u001b[43m)\u001b[49m\n",
      "File \u001b[1;32mc:\\Users\\ngarr\\AppData\\Local\\Programs\\Python\\Python312\\Lib\\site-packages\\pandapower\\powerflow.py:190\u001b[0m, in \u001b[0;36m_ppci_to_net\u001b[1;34m(result, net)\u001b[0m\n\u001b[0;32m    188\u001b[0m     algorithm \u001b[38;5;241m=\u001b[39m net[\u001b[38;5;124m\"\u001b[39m\u001b[38;5;124m_options\u001b[39m\u001b[38;5;124m\"\u001b[39m][\u001b[38;5;124m\"\u001b[39m\u001b[38;5;124malgorithm\u001b[39m\u001b[38;5;124m\"\u001b[39m]\n\u001b[0;32m    189\u001b[0m     max_iteration \u001b[38;5;241m=\u001b[39m net[\u001b[38;5;124m\"\u001b[39m\u001b[38;5;124m_options\u001b[39m\u001b[38;5;124m\"\u001b[39m][\u001b[38;5;124m\"\u001b[39m\u001b[38;5;124mmax_iteration\u001b[39m\u001b[38;5;124m\"\u001b[39m]\n\u001b[1;32m--> 190\u001b[0m     \u001b[38;5;28;01mraise\u001b[39;00m LoadflowNotConverged(\u001b[38;5;124m\"\u001b[39m\u001b[38;5;124mPower Flow \u001b[39m\u001b[38;5;132;01m{0}\u001b[39;00m\u001b[38;5;124m did not converge after \u001b[39m\u001b[38;5;124m\"\u001b[39m\n\u001b[0;32m    191\u001b[0m                                \u001b[38;5;124m\"\u001b[39m\u001b[38;5;132;01m{1}\u001b[39;00m\u001b[38;5;124m iterations!\u001b[39m\u001b[38;5;124m\"\u001b[39m\u001b[38;5;241m.\u001b[39mformat(algorithm, max_iteration))\n\u001b[0;32m    192\u001b[0m \u001b[38;5;28;01melse\u001b[39;00m:\n\u001b[0;32m    193\u001b[0m     net[\u001b[38;5;124m\"\u001b[39m\u001b[38;5;124m_ppc\u001b[39m\u001b[38;5;124m\"\u001b[39m] \u001b[38;5;241m=\u001b[39m result\n",
      "\u001b[1;31mLoadflowNotConverged\u001b[0m: Power Flow nr did not converge after 100 iterations!"
     ]
    }
   ],
   "source": [
    "import numba as np\n",
    "import pandas as pd\n",
    "import pandapower as pp \n",
    "import networkx as nx\n",
    "import matplotlib.pyplot as plt\n",
    "import matplotlib.gridspec as gridspec\n",
    "\n",
    "# Crear una red de ejemplo\n",
    "net = pp.create_empty_network()\n",
    "\n",
    "# Crear barras\n",
    "Barra1 = pp.create_bus(net, vn_kv=110, name=\"Barra 1\")\n",
    "Barra2 = pp.create_bus(net, vn_kv=220, name=\"Barra 2\")\n",
    "\n",
    "# Crear un transformador\n",
    "pp.create_transformer(net, Barra1, Barra2, std_type=\"100 MVA 220/110 kV\")\n",
    "\n",
    "# Crear una barra slack\n",
    "pp.create_ext_grid(net, Barra1, vm_pu=1.02, name=\"Barra Slack\")\n",
    "\n",
    "# Crear una carga\n",
    "pp.create_load(net, Barra2, p_mw=1080, q_mvar=523.0679)\n",
    "\n",
    "# Crear una línea de transmisión\n",
    "pp.create_line(net, from_bus=Barra1, to_bus=Barra2, length_km=500, std_type=\"N2XS(FL)2Y 1x185 RM/35 64/110 kV\", name=\"l12\")\n",
    "\n",
    "pp.runpp(net, algorithm='nr', numba=False, max_iteration=100 )\n",
    "\n",
    "net.res_line.index = net.line.name \n",
    "net.res_bus.index = net.bus.name \n",
    "\n",
    "net.res_bus"
   ]
  }
 ],
 "metadata": {
  "kernelspec": {
   "display_name": "Python 3",
   "language": "python",
   "name": "python3"
  },
  "language_info": {
   "codemirror_mode": {
    "name": "ipython",
    "version": 3
   },
   "file_extension": ".py",
   "mimetype": "text/x-python",
   "name": "python",
   "nbconvert_exporter": "python",
   "pygments_lexer": "ipython3",
   "version": "3.12.3"
  }
 },
 "nbformat": 4,
 "nbformat_minor": 2
}
