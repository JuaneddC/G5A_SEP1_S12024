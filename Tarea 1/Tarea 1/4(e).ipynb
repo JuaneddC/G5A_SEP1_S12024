{
 "cells": [
  {
   "cell_type": "code",
   "execution_count": 1,
   "metadata": {},
   "outputs": [
    {
     "name": "stdout",
     "output_type": "stream",
     "text": [
      "0    1.000000\n",
      "1    0.970027\n",
      "2    0.967817\n",
      "3    0.965358\n",
      "4    0.964581\n",
      "5    0.967481\n",
      "6    0.958281\n",
      "Name: vm_pu, dtype: float64\n"
     ]
    }
   ],
   "source": [
    "import pandapower as pp\n",
    "import pandapower.plotting as plot\n",
    "import matplotlib.pyplot as plt\n",
    "\n",
    "# Crear la red de ejemplo\n",
    "net = pp.create_empty_network()\n",
    "\n",
    "# Crear barras\n",
    "bus1 = pp.create_bus(net, vn_kv=110, name=\"Bus 1\")\n",
    "bus2 = pp.create_bus(net, vn_kv=220, name=\"Bus 2\")\n",
    "bus1a = pp.create_bus(net, vn_kv=220, name=\"Bus 1A\")\n",
    "bus2a = pp.create_bus(net, vn_kv=220, name=\"Bus 2A\")\n",
    "bus3a = pp.create_bus(net, vn_kv=220, name=\"Bus 3A\")\n",
    "bus1b = pp.create_bus(net, vn_kv=220, name=\"Bus 1B\")\n",
    "bus2b = pp.create_bus(net, vn_kv=220, name=\"Bus 2B\")\n",
    "\n",
    "# Crear las líneas de transmisión\n",
    "pp.create_line(net, from_bus=bus2, to_bus=bus1a, length_km=10, std_type=\"N2XS(FL)2Y 1x185 RM/35 64/110 kV\", name=\"Linea 2-1A\")\n",
    "pp.create_line(net, from_bus=bus1a, to_bus=bus2a, length_km=15, std_type=\"N2XS(FL)2Y 1x185 RM/35 64/110 kV\", name=\"Linea 1A-2A\")\n",
    "pp.create_line(net, from_bus=bus2a, to_bus=bus3a, length_km=20, std_type=\"N2XS(FL)2Y 1x185 RM/35 64/110 kV\", name=\"Linea 2A-3A\")\n",
    "#pp.create_line(net, from_bus=bus3a, to_bus=bus2b, length_km=15, std_type=\"N2XS(FL)2Y 1x185 RM/35 64/110 kV\", name=\"Linea 3A-2B\") switch off\n",
    "pp.create_line(net, from_bus=bus2, to_bus=bus1b, length_km=10, std_type=\"N2XS(FL)2Y 1x185 RM/35 64/110 kV\", name=\"Linea 2-1B\")\n",
    "pp.create_line(net, from_bus=bus1b, to_bus=bus2b, length_km=30, std_type=\"N2XS(FL)2Y 1x185 RM/35 64/110 kV\", name=\"Linea 1B-2B\")\n",
    "\n",
    "# Crear un transformador\n",
    "pp.create_transformer(net, hv_bus=bus2, lv_bus=bus1, std_type=\"100 MVA 220/110 kV\", name=\"Trafo 1-2\")\n",
    "\n",
    "# Crear una barra slack\n",
    "pp.create_ext_grid(net, bus=bus1, vm_pu=1.0)\n",
    "\n",
    "# Definir la carga nominal para todas las barras\n",
    "p_nominal = 150  # MW\n",
    "q_nominal = 100  # MVAr\n",
    "\n",
    "# Cargas para cada barra \n",
    "pp.create_load(net, bus=bus1a, p_mw=p_nominal*0.2, q_mvar=q_nominal*0.2, name=\"Load 1A\")\n",
    "pp.create_load(net, bus=bus2a, p_mw=p_nominal*0.35, q_mvar=q_nominal*0.35, name=\"Load 2A\")\n",
    "pp.create_load(net, bus=bus3a, p_mw=p_nominal*0.15, q_mvar=q_nominal*0.15, name=\"Load 3A\")\n",
    "pp.create_load(net, bus=bus1b, p_mw=p_nominal*0.1, q_mvar=q_nominal*0.1, name=\"Load 1B\")\n",
    "pp.create_load(net, bus=bus2b, p_mw=p_nominal*0.6, q_mvar=q_nominal*0.6, name=\"Load 2B\")\n",
    "\n",
    "# Ejecutar flujo de carga\n",
    "pp.runpp(net)\n",
    "\n",
    "# Obtener resultados de voltajes de las barras\n",
    "bus_voltages = net.res_bus.vm_pu\n",
    "\n",
    "print(bus_voltages)"
   ]
  }
 ],
 "metadata": {
  "kernelspec": {
   "display_name": "Python 3",
   "language": "python",
   "name": "python3"
  },
  "language_info": {
   "codemirror_mode": {
    "name": "ipython",
    "version": 3
   },
   "file_extension": ".py",
   "mimetype": "text/x-python",
   "name": "python",
   "nbconvert_exporter": "python",
   "pygments_lexer": "ipython3",
   "version": "3.12.3"
  }
 },
 "nbformat": 4,
 "nbformat_minor": 2
}
